{
 "cells": [
  {
   "cell_type": "markdown",
   "id": "797d2e43-d1aa-4336-a7b7-c2247577d58a",
   "metadata": {},
   "source": [
    "<h1 align='center'> 영상처리 프로그래밍 실습 7</h1>\n",
    "\n",
    "<h6 align='right'> 2022. 4. 28. </h6>"
   ]
  },
  {
   "cell_type": "markdown",
   "id": "db5adea0",
   "metadata": {},
   "source": [
    "<div class=\"alert alert-block alert-info\">\n",
    "    \n",
    "- 파일 이름에서 00000000을 자신의 학번으로, name을 자신의 이름으로 수정하세요.\n",
    "\n",
    "- 다음 줄에 자신의 이름, 학번, 학과(전공)을 적으세요.\n",
    "\n",
    "* 이름: 김성문   &nbsp;&nbsp;          학번: 20175115    &nbsp;&nbsp;         학과(전공): 빅데이터 전공\n",
    "    \n",
    "</div>\n",
    "\n",
    "- JupyterLab 문서의 최신 버전은 [JupyterLab Documentation](https://jupyterlab.readthedocs.io/en/stable/index.html#/)을  참고하라\n",
    "\n",
    "- Markdown은 [Markdown Guide](https://www.markdownguide.org/)를 참고하라.\n",
    "- [Markdown Cheat Sheet](https://www.markdownguide.org/cheat-sheet/)\n",
    "\n",
    "* 제출 마감: 5월 4일 (수) 오후 6:00까지 최종본을 SmartLEAD제출\n"
   ]
  },
  {
   "cell_type": "code",
   "execution_count": 1,
   "id": "34e117ec",
   "metadata": {},
   "outputs": [
    {
     "name": "stdout",
     "output_type": "stream",
     "text": [
      "OpenCV version 4.5.2\n",
      "NumPy version 1.20.3\n"
     ]
    }
   ],
   "source": [
    "import cv2\n",
    "import matplotlib.pyplot as plt\n",
    "\n",
    "import numpy as np\n",
    "print(\"OpenCV version\", cv2.__version__)\n",
    "print(\"NumPy version\", np.__version__)"
   ]
  },
  {
   "cell_type": "markdown",
   "id": "bf14c6bf-a291-47ef-aaa6-e406dadd78e0",
   "metadata": {},
   "source": [
    "## 지난 주 문제 1.\n",
    "\n",
    "오늘 실습에서 사용한 적당한 영상을 하나 읽어서 OpenCV를 이용해서 영상을 표시하는 윈도우를 만들고 slidebar 인터페이스를 사용하여 감마 변환의 gamma를 0.1부터 5 사이로 조절할 수 있도록 하고, 감마가 변경될 때마다 윈도우에 감마 변환된 영상이 표시되는 프로그램을 작성하라."
   ]
  },
  {
   "cell_type": "code",
   "execution_count": 78,
   "id": "b5b8bd4e",
   "metadata": {},
   "outputs": [],
   "source": [
    "def lut_transformation(r, lut):\n",
    "    return lut[r]\n",
    "\n",
    "def gamma_transformation_LUT(gamma):\n",
    "    out = 255. ** (1. - gamma) * np.arange(256) ** gamma\n",
    "    return out.round(0).clip(0,255).astype(np.uint8)\n",
    "\n",
    "def onChange(val):\n",
    "    global img2\n",
    "    if val == 0:\n",
    "        val = 1\n",
    "    gamma = val / 100.\n",
    "    lut_gamma = gamma_transformation_LUT(gamma)\n",
    "        \n",
    "    img_YUV = cv2.cvtColor(img, cv2.COLOR_BGR2YUV)\n",
    "    img_YUV[...,0] = lut_transformation(img_YUV[...,0], lut_gamma)\n",
    "    img2 = cv2.cvtColor(img_YUV, cv2.COLOR_YUV2BGR)\n",
    "    cv2.imshow(winname, img2)\n",
    "\n",
    "img = cv2.imread('grass.jpg')\n",
    "img2 = img.copy()\n",
    "winname = \"Gamma transformation\"\n",
    "cv2.imshow(winname, img)\n",
    "\n",
    "cv2.createTrackbar(\"gamma\", winname, 100, 500, onChange)\n",
    "cv2.waitKey(0)\n",
    "cv2.destroyAllWindows()"
   ]
  },
  {
   "cell_type": "markdown",
   "id": "1f702ab1-eee0-488a-bd3f-f4c11f2fe1e8",
   "metadata": {},
   "source": [
    "## 예제 1. \n",
    "\n",
    "다음을 만족하는 함수 moving_average_filtering(filename)를 완성하라.\n",
    "\n",
    "- filename으로 전달받은 파일이 존재하는지 조사해서 존재하지 않으면 오류 메시지를 콘솔에 출력하고 return 한다.\n",
    "- 파일이 존재하면\n",
    "  - 파일을 읽고, 원본 영상과 이동 평균 필터링된 영상을 나란히 화면에 표시한다.\n",
    "  - 이동 평균 필터의 커널의 크기를 지정할 수 있는 trackBar interface를 제공한다. 단, trackBar로 지정하는 값의 범위는 1부터 51까지로 하되, 짝수일 경우 그보다 1 작은 홀수로 커널의 크기를 지정한다.\n",
    "  - 지정된 커널의 크기를 이용해서 원 영상에 이동 평균 필터링이 적용된 영상을 구한다."
   ]
  },
  {
   "cell_type": "code",
   "execution_count": 10,
   "id": "49748f78-7355-4ea1-acf5-56eba804b45f",
   "metadata": {},
   "outputs": [],
   "source": [
    "import cv2\n",
    "import numpy as np\n",
    "from os.path import exists\n",
    "\n",
    "def moving_average_filtering(filename):\n",
    "    def onMovingAverage(val):\n",
    "        nonlocal ksize   # nonlocal 자신 보다 바깥에 있는 함수의 로컬 변수를 의미\n",
    "        if val == 0:\n",
    "            ksize= 1\n",
    "        else:\n",
    "            ksize = val // 2 *2 + 1\n",
    "            # if val % 2 == 0:\n",
    "            #     ksize = val -1\n",
    "            # else:\n",
    "            #     ksize = val\n",
    "\n",
    "        kernel = np.ones((ksize, ksize)) / (ksize**2)   # kernel 만듬\n",
    "        img_ma = cv2.filter2D(img, -1, kernel)\n",
    "        img2 = np.hstack((img, img_ma))       # hstack을 이용하여 이미지 합침\n",
    "        cv2.imshow(winname, img2)\n",
    "    \n",
    "    if exists(filename):\n",
    "        img = cv2.imread(filename)\n",
    "    else:\n",
    "        print(f\"Image file '{filename}' does not exist\")\n",
    "        return\n",
    "        \n",
    "    ksize = 1\n",
    "    winname = 'Moving average filtering'\n",
    "    cv2.namedWindow(winname, flags=1 | cv2.WINDOW_GUI_NORMAL)\n",
    "    \n",
    "    onMovingAverage(ksize)\n",
    "    \n",
    "    cv2.createTrackbar(\"kernel size\", winname, ksize, 51, onMovingAverage)\n",
    "    cv2.waitKey(0)\n",
    "    cv2.destroyAllWindows()"
   ]
  },
  {
   "cell_type": "code",
   "execution_count": 11,
   "id": "1b08126e-fbd1-474d-b3e8-bbd8aa477a39",
   "metadata": {
    "tags": []
   },
   "outputs": [],
   "source": [
    "moving_average_filtering('grass.jpg')"
   ]
  },
  {
   "cell_type": "markdown",
   "id": "13cf5ce4-b8fc-40f5-b4a7-2b412de8b53b",
   "metadata": {},
   "source": [
    "## 예제 2.\n",
    "\n",
    "예제 1에서 만든 프로그램에 다음 기능을 추가하라.\n",
    "\n",
    "왼쪽 마우스 버튼을 클릭하면 화면에 표시되는 영상이 다음과 같이 토클되어야 한다.\n",
    "\n",
    "(원 영상, 이동 평균 필터링된 영상) <--> (원 영상, 이동 평균 필터링된 영상, 차 영상)\n"
   ]
  },
  {
   "cell_type": "code",
   "execution_count": 12,
   "id": "a6b92a8b-ad09-49da-9825-d4ea6df23f1e",
   "metadata": {},
   "outputs": [],
   "source": [
    "def moving_average_filtering_2(filename):\n",
    "    def onMovingAverage(val):\n",
    "        nonlocal ksize   # nonlocal 자신 보다 바깥에 있는 함수의 로컬 변수를 의미\n",
    "        if val == 0:\n",
    "            ksize= 1\n",
    "        else:\n",
    "            ksize = val // 2 *2 + 1  # 홀수로 만들기\n",
    "\n",
    "        kernel = np.ones((ksize, ksize)) / (ksize**2)   # kernel 만듬\n",
    "        img_ma = cv2.filter2D(img, -1, kernel)\n",
    "        \n",
    "        if show_difference:\n",
    "            img2 = np.hstack((img, img_ma, img-img_ma))\n",
    "        else:\n",
    "            img2 = np.hstack((img, img_ma))       # hstack을 이용하여 이미지 합침\n",
    "        cv2.imshow(winname, img2)\n",
    "        \n",
    "    def onMouseClick(event, x, y, flags, params):\n",
    "        nonlocal show_difference\n",
    "        if event == cv2.EVENT_LBUTTONUP:\n",
    "            show_difference = not show_difference\n",
    "        onMovingAverage(ksize)\n",
    "        \n",
    "    \n",
    "    if exists(filename):\n",
    "        img = cv2.imread(filename)\n",
    "    else:\n",
    "        print(f\"Image file '{filename}' does not exist\")\n",
    "        \n",
    "    ksize = 1\n",
    "    show_difference = False    # 마우스 클릭 되면 영상의 차를 보여주거나 안보여준다\n",
    "    winname = 'Moving average filtering'\n",
    "    cv2.namedWindow(winname, flags=1 | cv2.WINDOW_GUI_NORMAL)\n",
    "    \n",
    "    onMovingAverage(ksize)\n",
    "\n",
    "    cv2.createTrackbar(\"kernel size\", winname, ksize, 51, onMovingAverage)\n",
    "    cv2.setMouseCallback(winname, onMouseClick)\n",
    "    cv2.waitKey(0)\n",
    "    cv2.destroyAllWindows()"
   ]
  },
  {
   "cell_type": "code",
   "execution_count": 13,
   "id": "02971cfe-d099-455f-8e3c-0d70ce90ae19",
   "metadata": {
    "tags": []
   },
   "outputs": [],
   "source": [
    "moving_average_filtering_2('grass.jpg')"
   ]
  },
  {
   "cell_type": "markdown",
   "id": "e9a4e529-c73c-4f97-b6e1-18eca32f3f74",
   "metadata": {
    "tags": []
   },
   "source": [
    "## 문제 1. \n",
    "\n",
    "다음을 만족하는 함수 gamma_transformation(filename)을 완성하라.\n",
    "\n",
    "- filename으로 전달받은 파일이 존재하는지 조사해서 존재하지 않으면 오류 메시지를 콘솔에 출력하고 return 한다.\n",
    "- 파일이 존재하면\n",
    "  - 파일을 읽고, 원본 영상과 gamma 변환 영상을 나란히 화면에 표시한다.\n",
    "  - gamma 값을 지정할 수 있는 trackBar interface를 제공한다. 단, trackBar로 지정하는 값의 범위는 1부터 500까지로 하고, 이 값을 scaling해서 0.1과 5 사이로 조정한 값을 gamma로 한다.\n",
    "  - trackBar의 초기값은 gamma=1.0에 해당하는 값으로 설정한다.\n",
    "  - 지정된 gamma 값을 이용해서 원 영상을 gamma 변환한 영상을 구한다.\n",
    "- 파일이 흑백 영상이면 흑백 영상을 표시하고, 컬러 영상인 경우에는 RGB를 YUV로 변환해서 Y 성분만 gamma 변환을 한 후에, 다시 RGB 영상으로 변환해서 "
   ]
  },
  {
   "cell_type": "code",
   "execution_count": 6,
   "id": "7c70c373-81f0-4c07-aad0-333236e9ba9f",
   "metadata": {},
   "outputs": [],
   "source": [
    "import cv2\n",
    "import numpy as np\n",
    "from os.path import exists"
   ]
  },
  {
   "cell_type": "code",
   "execution_count": 36,
   "id": "e0fb83cc-d8b7-4107-896b-b9c372015acf",
   "metadata": {},
   "outputs": [],
   "source": [
    "def gamma_transformation(filename):\n",
    "    def gamma_transformation_LUT(gamma):      # gamma lookup table\n",
    "        out = 255. ** (1. - gamma) * np.arange(256) ** gamma\n",
    "        return out.round(0).clip(0,255).astype(np.uint8)\n",
    "    \n",
    "    def onMovinggam(val):\n",
    "        nonlocal gamma\n",
    "        if val == 0:\n",
    "            gamma = 0.1\n",
    "        gamma = val / 100.\n",
    "        \n",
    "        gam_lut = gamma_transformation_LUT(gamma)\n",
    "        if len(img.shape) == 3:   # 컬러 영상이라면\n",
    "            img_YUV = cv2.cvtColor(img, cv2.COLOR_BGR2YUV)                # YUV 채널로 변경\n",
    "            img_YUV[...,0] = cv2.LUT(img_YUV[...,0], gam_lut)          # Y성분만 감마 변환\n",
    "            img_gam = cv2.cvtColor(img_YUV, cv2.COLOR_YCrCb2BGR)        # 다시 BGR채널로 변경\n",
    "        \n",
    "        \n",
    "        img_gam = cv2.LUT(img, gam_lut)\n",
    "        img2 = np.hstack((img, img_gam))\n",
    "        cv2.imshow(winname, img2)\n",
    "    \n",
    "    if exists(filename):\n",
    "        img = cv2.imread(filename)        \n",
    "    else:\n",
    "        print(f\"Image file '{filename}' does not exist\")\n",
    "        return\n",
    "    \n",
    "    gamma = 1\n",
    "    winname = 'Gamma Transformation'\n",
    "\n",
    "    onMovinggam(100)\n",
    "    \n",
    "    cv2.createTrackbar(\"gamma\", winname, 100, 500, onMovinggam)\n",
    "    \n",
    "    cv2.waitKey(0)\n",
    "    cv2.destroyAllWindows()"
   ]
  },
  {
   "cell_type": "code",
   "execution_count": 37,
   "id": "265efd61-af73-4ec2-a1e0-992bdb3a13e4",
   "metadata": {},
   "outputs": [],
   "source": [
    "gamma_transformation('grass.jpg')"
   ]
  },
  {
   "cell_type": "markdown",
   "id": "852ac980-ce6a-4ac9-afcf-fef07a0306fc",
   "metadata": {},
   "source": [
    "## 문제 1.\n",
    "예제 2의 프로그램을 다음과 같이 변경하라.\n",
    "\n",
    "- 이동 평균 필터링을 가우시안 필터링으로 변경하라.\n",
    "- 가우시안 커널의 표준편차인 sigmaX와 sigmaY를 개별적으로 조정할 수 있는 trackBar interface를 2 개 제공한다. 단, 표준 편차의 최댓값은 10.0이 되도록 한다.\n"
   ]
  },
  {
   "cell_type": "code",
   "execution_count": 1,
   "id": "a96889db-5f34-4128-b8e6-b7b5b6a65de9",
   "metadata": {},
   "outputs": [],
   "source": [
    "import cv2\n",
    "import numpy as np\n",
    "from os.path import exists"
   ]
  },
  {
   "cell_type": "code",
   "execution_count": 7,
   "id": "cf3b9cce-9208-450d-8cb5-1ac6fb8b0443",
   "metadata": {},
   "outputs": [],
   "source": [
    "def Gaussian_filtering(filename):\n",
    "    def onMovingAverage(val):\n",
    "        nonlocal ksize, sigmaX, sigmaY   # nonlocal 자신 보다 바깥에 있는 함수의 로컬 변수를 의미\n",
    "        if val == 0:\n",
    "            ksize= 1\n",
    "        else:\n",
    "            ksize = val // 2 *2 + 1  # 홀수로 만들기\n",
    "\n",
    "        img_ma = cv2.GaussianBlur(img, (ksize, ksize), sigmaX, sigmaY)\n",
    "        \n",
    "        if show_difference:\n",
    "            img2 = np.hstack((img, img_ma, img-img_ma))\n",
    "        else:\n",
    "            img2 = np.hstack((img, img_ma))       # hstack을 이용하여 이미지 합침\n",
    "        cv2.imshow(winname, img2)\n",
    "        \n",
    "    def onMovingSigmaX(val):\n",
    "        nonlocal sigmaX, sigmaY, ksize\n",
    "        if val == 0:\n",
    "            sigmaX = 1\n",
    "        else:\n",
    "            sigmaX = val/10\n",
    "        \n",
    "        img_ma = cv2.GaussianBlur(img, (ksize, ksize), sigmaX, sigmaY)\n",
    "        \n",
    "        if show_difference:\n",
    "            img2 = np.hstack((img, img_ma, img-img_ma))\n",
    "        else:\n",
    "            img2 = np.hstack((img, img_ma))       # hstack을 이용하여 이미지 합침\n",
    "        cv2.imshow(winname, img2)\n",
    "        \n",
    "        \n",
    "    def onMovingSigmaY(val):\n",
    "        nonlocal sigmaX, sigmaY, ksize\n",
    "        if val == 0:\n",
    "            sigmaY = 1\n",
    "        else:\n",
    "            sigmaY = val/10\n",
    "        \n",
    "        img_ma = cv2.GaussianBlur(img, (ksize, ksize), sigmaX, sigmaY)\n",
    "        \n",
    "        if show_difference:\n",
    "            img2 = np.hstack((img, img_ma, img-img_ma))\n",
    "        else:\n",
    "            img2 = np.hstack((img, img_ma))       # hstack을 이용하여 이미지 합침\n",
    "        cv2.imshow(winname, img2)\n",
    "        \n",
    "    def onMouseClick(event, x, y, flags, params):\n",
    "        nonlocal show_difference\n",
    "        if event == cv2.EVENT_LBUTTONUP:\n",
    "            show_difference = not show_difference\n",
    "        onMovingAverage(ksize)\n",
    "        \n",
    "    \n",
    "    if exists(filename):\n",
    "        img = cv2.imread(filename)\n",
    "    else:\n",
    "        print(f\"Image file '{filename}' does not exist\")\n",
    "        \n",
    "    ksize = 1\n",
    "    show_difference = False    # 마우스 클릭 되면 영상의 차를 보여주거나 안보여준다\n",
    "    winname = 'Moving average filtering'\n",
    "    cv2.namedWindow(winname, flags=1 | cv2.WINDOW_GUI_NORMAL)\n",
    "    \n",
    "    sigmaX = 1\n",
    "    sigmaY = 1\n",
    "\n",
    "    onMovingAverage(ksize)\n",
    "    \n",
    "    cv2.createTrackbar(\"kernel size\", winname, ksize, 51, onMovingAverage)\n",
    "    cv2.createTrackbar(\"sigmaX\", winname, 1, 100, onMovingSigmaX)\n",
    "    cv2.createTrackbar(\"sigmaY\", winname, 1, 100, onMovingSigmaY)\n",
    "    cv2.setMouseCallback(winname, onMouseClick)\n",
    "    cv2.waitKey(0)\n",
    "    cv2.destroyAllWindows()"
   ]
  },
  {
   "cell_type": "code",
   "execution_count": 8,
   "id": "1d0e7f78-f24f-4082-8f82-11fc99f914fd",
   "metadata": {},
   "outputs": [],
   "source": [
    "Gaussian_filtering('grass.jpg')"
   ]
  }
 ],
 "metadata": {
  "kernelspec": {
   "display_name": "Python 3 (ipykernel)",
   "language": "python",
   "name": "python3"
  },
  "language_info": {
   "codemirror_mode": {
    "name": "ipython",
    "version": 3
   },
   "file_extension": ".py",
   "mimetype": "text/x-python",
   "name": "python",
   "nbconvert_exporter": "python",
   "pygments_lexer": "ipython3",
   "version": "3.9.7"
  },
  "latex_envs": {
   "LaTeX_envs_menu_present": true,
   "autoclose": false,
   "autocomplete": true,
   "bibliofile": "biblio.bib",
   "cite_by": "apalike",
   "current_citInitial": 1,
   "eqLabelWithNumbers": true,
   "eqNumInitial": 1,
   "hotkeys": {
    "equation": "Ctrl-E",
    "itemize": "Ctrl-I"
   },
   "labels_anchors": false,
   "latex_user_defs": false,
   "report_style_numbering": false,
   "user_envs_cfg": false
  }
 },
 "nbformat": 4,
 "nbformat_minor": 5
}
