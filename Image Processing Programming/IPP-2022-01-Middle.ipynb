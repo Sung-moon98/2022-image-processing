{
 "cells": [
  {
   "cell_type": "markdown",
   "metadata": {
    "tags": []
   },
   "source": [
    "<h1 align='center'> 영상처리프로그래밍 중간고사</h1>\n",
    "\n",
    "<h3 align='center'> 담당교수 : 박섭형</h3>\n",
    "\n",
    "<p style=\"text-align: right\"> 2022.4.19.</p>"
   ]
  },
  {
   "cell_type": "markdown",
   "metadata": {},
   "source": [
    "<div class=\"alert alert-block alert-info\">\n",
    "    \n",
    "- 파일 이름에서 00000000을 자신의 학번으로, name을 자신의 이름으로 수정하세요.\n",
    "\n",
    "- 아래에 자신의 이름, 학번, 학과(전공)을 적으세요.\n",
    "\n",
    "  - 이름: 김성문\n",
    "  - 학번: 20175115\n",
    "  - 학과(전공): 빅데이터전공\n",
    "    \n",
    "</div>\n",
    "\n",
    "- 주의 사항\n",
    "  - 시험 시간: 오후 3:00 ~ 오후 2:10\n",
    "  - 시험 시간 동안에는 카메라를 켜서 자신의 모습이 화면에 나타나야 함\n",
    "  - 오후 4:10에 줌을 종료하고 SmartLead에 .ipynb 파일을 업로드\n",
    "    - 업로드 마감 시간: 오후 4:15\n",
    "  - 파일 업로드 후에 자신의 답안지를 설명하는 개인 동영상 녹화 시작\n",
    "     - 녹화할 때 Jupyter notebook 화면이 전체 화면에 나오고 설명하는 자신의 얼굴이 화면 모퉁이에 함께 녹화되어야 함\n",
    "     - 문제 하나당 설명 시간이 3분을 넘지 않도록 주의\n",
    "  - 동영상 파일을 SmartLead에 파일 업로드\n",
    "    - 업로드 마감 시간: 오후 4:50\n",
    "  - 주: 아래 두 파일을 별도로 업로드 함.\n",
    "     - ipynb 파일 (마감 시간 오후 4:15)\n",
    "     - 문제해설 녹화 동영상 (마감 시간 오후 4:50)\n"
   ]
  },
  {
   "cell_type": "markdown",
   "metadata": {
    "jp-MarkdownHeadingCollapsed": true,
    "tags": []
   },
   "source": [
    "#### 채점 결과 \n",
    "\n",
    "\n",
    "| 문제 | 문제 1 | 문제 2 | 문제 3 | 문제 4 | 문제 5 | 문제 6 | 합계 |\n",
    "--|--|--|--|--|--|--|--\n",
    "만점 | 10 | 10 | 30 | 20 | 20 | 10 | 100\n",
    "득점 | | | | | |"
   ]
  },
  {
   "cell_type": "markdown",
   "metadata": {},
   "source": [
    "## 'istanbul.jpg' 파일을 읽고, 다음 질문에 답을 하라."
   ]
  },
  {
   "cell_type": "markdown",
   "metadata": {},
   "source": [
    "### 문제 1.\n",
    "이 영상 데이터를 표현하는 numpy ndarray에서 순서 영상 데이터가 차지하는 메모리의 크기가 몇 byte 인지 계산하는 프로그램을 작성하라."
   ]
  },
  {
   "cell_type": "markdown",
   "metadata": {},
   "source": [
    "**1 번 답**:"
   ]
  },
  {
   "cell_type": "code",
   "execution_count": 8,
   "metadata": {},
   "outputs": [],
   "source": [
    "import cv2\n",
    "import numpy as np\n",
    "import sys\n",
    "import matplotlib.pyplot as plt"
   ]
  },
  {
   "cell_type": "code",
   "execution_count": 9,
   "metadata": {},
   "outputs": [
    {
     "name": "stdout",
     "output_type": "stream",
     "text": [
      "size: 72000136 byte\n"
     ]
    }
   ],
   "source": [
    "istanbul = cv2.imread('istanbul.jpg')\n",
    "print(\"size:\", sys.getsizeof(istanbul),'byte')"
   ]
  },
  {
   "cell_type": "markdown",
   "metadata": {
    "tags": []
   },
   "source": [
    "## 문제 2.\n",
    "이 영상의 크기를 가로 1,200 화소, 세로 800 화소로 줄여서 같은 변수에 할당하라."
   ]
  },
  {
   "cell_type": "code",
   "execution_count": 10,
   "metadata": {},
   "outputs": [
    {
     "data": {
      "text/plain": [
       "(800, 1200, 3)"
      ]
     },
     "execution_count": 10,
     "metadata": {},
     "output_type": "execute_result"
    }
   ],
   "source": [
    "istanbul = cv2.resize(istanbul, (1200, 800), interpolation=cv2.INTER_AREA)\n",
    "istanbul.shape"
   ]
  },
  {
   "cell_type": "markdown",
   "metadata": {},
   "source": [
    "### 문제 3.\n",
    "\n",
    "'image' 라는 이름의 title을 가진 창을 만들고 이 창에 문제 1-2에서 만든 작은 영상을 표시하고,\n",
    "마우스를 그 창 위에서 움직이면 반지름이 영상의 높이의 1/4인 흰색 원이 마우스를 따라 움직이는 프로그램을 작성하라. 단, 원의 중심은 마우스의 현재 위치가 되고, 키보드로 'q'를 입력하면 프로그램이 종료되어야 한다."
   ]
  },
  {
   "cell_type": "code",
   "execution_count": 11,
   "metadata": {},
   "outputs": [],
   "source": [
    "def onMouseDrag(event, x, y, flags, param):\n",
    "    global radius, white, center, img\n",
    "    if event == cv2.EVENT_MOUSEMOVE:\n",
    "        img = istanbul.copy()\n",
    "        center = [x, y]\n",
    "        cv2.circle(img, center, radius, white, cv2.LINE_4)\n",
    "        cv2.imshow('image', img)\n",
    "\n",
    "        \n",
    "img = istanbul.copy()\n",
    "white = (255, 255, 255)\n",
    "radius = img.shape[0]//4\n",
    "\n",
    "cv2.imshow('image', istanbul)\n",
    "cv2.setMouseCallback(\"image\", onMouseDrag)\n",
    "\n",
    "while cv2.waitKey(0) != ord('q'):\n",
    "    pass\n",
    "cv2.destroyAllWindows()"
   ]
  },
  {
   "cell_type": "markdown",
   "metadata": {},
   "source": [
    "### 문제 4.\n",
    "\n",
    "문제 3에서 만든 프로그램에 다음 기능을 추가하라.\n",
    "\n",
    "마우스를 따라서 움직이는 원의 내부에만 감마 변환을 적용한 영상을 표시하라.\n",
    "단, 감마의 값은 0.5로 한다."
   ]
  },
  {
   "cell_type": "code",
   "execution_count": 18,
   "metadata": {},
   "outputs": [],
   "source": [
    "def lookupTable(r, lut):     # 0~255까지 로그변환이 되어있는 값들을 인덱싱을 이용하여 가져온다\n",
    "    return lut[r]   \n",
    " \n",
    "def gamma_lut(gamma):\n",
    "    out = 255**(1-gamma) * np.arange(256)**gamma        # 감마 변환\n",
    "    return out.round(0).clip(0,255).astype(np.uint8)    # 정수로 변환"
   ]
  },
  {
   "cell_type": "code",
   "execution_count": 17,
   "metadata": {
    "tags": []
   },
   "outputs": [],
   "source": [
    "def onMouseDrag(event, x, y, flags, param):\n",
    "    global radius, white, center, gamma, a, b, img\n",
    "    if event == cv2.EVENT_MOUSEMOVE:\n",
    "        img = istanbul.copy()\n",
    "        center = [x, y]\n",
    "        idx = (a-center[1])**2 + (b-center[0])**2 < radius ** 2\n",
    "        img[idx] = lookupTable(img[idx], gamma_lut(gamma))\n",
    "        cv2.circle(img, center, radius, white, cv2.LINE_4)\n",
    "        cv2.imshow('image', img)\n",
    "\n",
    "        \n",
    "gamma = 0.5\n",
    "\n",
    "a = np.arange(istanbul.shape[0]).reshape(istanbul.shape[0], 1)\n",
    "b = np.arange(istanbul.shape[1]).reshape(1, istanbul.shape[1])\n",
    "\n",
    "img = istanbul.copy()\n",
    "white = (255, 255, 255)\n",
    "radius = img.shape[0]//4\n",
    "\n",
    "\n",
    "cv2.imshow('image', istanbul)\n",
    "cv2.setMouseCallback(\"image\", onMouseDrag)\n",
    "\n",
    "while cv2.waitKey(0) != ord('q'):\n",
    "    pass\n",
    "cv2.destroyAllWindows()\n"
   ]
  },
  {
   "cell_type": "markdown",
   "metadata": {},
   "source": [
    "### 문제 5.\n",
    "\n",
    "문제 4에서 만든 프로그램에 다음 기능을 추가하라.\n",
    "\n",
    "왼쪽 마우스를 클릭할 때마다 감마의 값은 0.1씩 감소하고, 오른쪽 마우스를 클릭할 때마다 감마의 값은 0.1씩 증가한다. 단, 감마의 범위는 0.1부터 2.0까지로 제한한다."
   ]
  },
  {
   "cell_type": "code",
   "execution_count": 22,
   "metadata": {},
   "outputs": [],
   "source": [
    "def onMouseDrag(event, x, y, flags, param):\n",
    "    global radius, white, center, gamma, a, b, img\n",
    "    if event == cv2.EVENT_MOUSEMOVE:\n",
    "        img = istanbul.copy()\n",
    "        \n",
    "        \n",
    "    elif event == cv2.EVENT_LBUTTONUP:\n",
    "        if gamma >= 0.2:\n",
    "            gamma = gamma-0.1\n",
    "\n",
    "    elif event == cv2.EVENT_RBUTTONUP:\n",
    "        if gamma <= 1.9:\n",
    "            gamma = gamma+0.1\n",
    "    \n",
    "    img = istanbul.copy()\n",
    "    center = [x, y]\n",
    "    idx = (a-center[1])**2 + (b-center[0])**2 < radius ** 2\n",
    "    img[idx] = lookupTable(img[idx], gamma_lut(gamma))\n",
    "    cv2.circle(img, center, radius, white, cv2.LINE_4)\n",
    "    cv2.imshow('image', img)\n",
    "\n",
    "        \n",
    "gamma = 0.5\n",
    "\n",
    "a = np.arange(istanbul.shape[0]).reshape(istanbul.shape[0], 1)\n",
    "b = np.arange(istanbul.shape[1]).reshape(1, istanbul.shape[1])\n",
    "\n",
    "img = istanbul.copy()\n",
    "white = (255, 255, 255)\n",
    "radius = img.shape[0]//4\n",
    "\n",
    "cv2.imshow('image', istanbul)\n",
    "cv2.setMouseCallback(\"image\", onMouseDrag)\n",
    "\n",
    "while cv2.waitKey(0) != ord('q'):\n",
    "    pass\n",
    "cv2.destroyAllWindows()"
   ]
  },
  {
   "cell_type": "markdown",
   "metadata": {},
   "source": [
    "### 문제 6. \n",
    "\n",
    "문제 5에서 만든 프로그램에 다음 기능을 추가하라.\n",
    "\n",
    "키보드로 'd'를 누르면 원의 반지름이 10씩 감소하고, 'f'를 누르면 원의 반지름이 10씩 증가한다. 단, 반지름의 범위는 50부터 영상의 높이의 1/2까지로 제한한다."
   ]
  },
  {
   "cell_type": "code",
   "execution_count": 25,
   "metadata": {},
   "outputs": [],
   "source": [
    "def onMouseDrag(event, x, y, flags, param):\n",
    "    global radius, white, center, gamma, a, b\n",
    "    if event == cv2.EVENT_MOUSEMOVE:\n",
    "        img = istanbul.copy()\n",
    "        \n",
    "    elif event == cv2.EVENT_LBUTTONUP:\n",
    "        if gamma >= 0.2:\n",
    "            gamma = gamma-0.1\n",
    "\n",
    "    elif event == cv2.EVENT_RBUTTONUP:\n",
    "        if gamma <= 1.9:\n",
    "            gamma = gamma+0.1\n",
    "\n",
    "    img = istanbul.copy()\n",
    "    center = [x, y]\n",
    "    idx = (a-center[1])**2 + (b-center[0])**2 < radius ** 2\n",
    "    img[idx] = lookupTable(img[idx], gamma_lut(gamma))\n",
    "    cv2.circle(img, center, radius, white, cv2.LINE_4)\n",
    "    cv2.imshow('image', img)\n",
    "        \n",
    "gamma = 0.5\n",
    "\n",
    "a = np.arange(istanbul.shape[0]).reshape(istanbul.shape[0], 1)\n",
    "b = np.arange(istanbul.shape[1]).reshape(1, istanbul.shape[1])\n",
    "\n",
    "\n",
    "white = (255, 255, 255)\n",
    "radius = istanbul.shape[0]//4\n",
    "\n",
    "\n",
    "cv2.imshow('image', istanbul)\n",
    "cv2.setMouseCallback(\"image\", onMouseDrag)\n",
    "\n",
    "while True:   \n",
    "    key = cv2.waitKey()\n",
    "    if key == ord('d'):\n",
    "        if radius >= 60:\n",
    "            radius -= 10\n",
    "    elif key == ord('f'):\n",
    "        if radius <= istanbul.shape[0]//2 - 10:\n",
    "            radius += 10\n",
    "    elif key == ord('q'):\n",
    "        break\n",
    "    else:\n",
    "        pass\n",
    "        \n",
    "cv2.destroyAllWindows()\n"
   ]
  }
 ],
 "metadata": {
  "kernelspec": {
   "display_name": "Python 3 (ipykernel)",
   "language": "python",
   "name": "python3"
  },
  "language_info": {
   "codemirror_mode": {
    "name": "ipython",
    "version": 3
   },
   "file_extension": ".py",
   "mimetype": "text/x-python",
   "name": "python",
   "nbconvert_exporter": "python",
   "pygments_lexer": "ipython3",
   "version": "3.9.7"
  },
  "latex_envs": {
   "LaTeX_envs_menu_present": true,
   "autoclose": false,
   "autocomplete": true,
   "bibliofile": "biblio.bib",
   "cite_by": "apalike",
   "current_citInitial": 1,
   "eqLabelWithNumbers": true,
   "eqNumInitial": 1,
   "hotkeys": {
    "equation": "Ctrl-E",
    "itemize": "Ctrl-I"
   },
   "labels_anchors": false,
   "latex_user_defs": false,
   "report_style_numbering": false,
   "user_envs_cfg": false
  },
  "toc": {
   "base_numbering": 1,
   "nav_menu": {},
   "number_sections": false,
   "sideBar": true,
   "skip_h1_title": false,
   "title_cell": "Table of Contents",
   "title_sidebar": "Contents",
   "toc_cell": false,
   "toc_position": {
    "height": "calc(100% - 180px)",
    "left": "10px",
    "top": "150px",
    "width": "270.5px"
   },
   "toc_section_display": true,
   "toc_window_display": false
  }
 },
 "nbformat": 4,
 "nbformat_minor": 4
}
