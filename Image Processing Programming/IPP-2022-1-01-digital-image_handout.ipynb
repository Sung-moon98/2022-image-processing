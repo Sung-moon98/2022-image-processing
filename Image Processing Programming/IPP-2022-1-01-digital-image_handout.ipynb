{
 "cells": [
  {
   "cell_type": "markdown",
   "id": "dc2d3303",
   "metadata": {
    "tags": [],
    "toc-hr-collapsed": true
   },
   "source": [
    "# 디지털 영상의 이해\n",
    "\n",
    "## 디지털 영상 표현\n",
    "* 디지털 영상\n",
    "  - 일정한 수의 화소(pixel: picture elements)들의 모임\n",
    "  - 화소의 샘플링(sampling): 각 화소는 2차원 공간 상의 $x$축과 $y$축 상에 일정한 간격으로 위치\n",
    "  - 각 화소의 밝기(intensity)의 양자화(quantization): 유한하고, 이산 값을 갖는 숫자로 표현됨\n",
    "\n",
    "## 영상의 유형\n",
    "* 단일 채널 영상\n",
    "  - 이진(binary) 영상\n",
    "  - 흑백(gray-scale) 영상\n",
    "* 다중 채널 영상\n",
    "  - 3 채널: RGB, HSV, \n",
    "  - 4 채널: RGBA"
   ]
  },
  {
   "cell_type": "markdown",
   "id": "15ba3c70-8515-4449-b645-e2b68f745dfc",
   "metadata": {},
   "source": [
    "# Python에서 사용할 수 있는 영상 처리 라이브러리\n",
    "- Pillow: PIL.Image\n",
    "- Scikit-image: skimage.io\n",
    "- Matplotlib: matplotlib.image\n",
    "- ImageIO: imageio\n",
    "- OpenCV: cv2"
   ]
  },
  {
   "cell_type": "markdown",
   "id": "cfb425b4-54ec-46e3-81fb-3d19f8a69ebe",
   "metadata": {},
   "source": [
    "**참고** \n",
    "- 모듈: 함수나 변수 또는 클래스를 모아 놓은 파일\n"
   ]
  },
  {
   "cell_type": "markdown",
   "id": "4d7e6a56-ff5d-49ea-87b3-356184ee0af5",
   "metadata": {},
   "source": [
    "## PIL 이용하기\n",
    "\n",
    "* Pillow Tutorial(https://pillow.readthedocs.io/en/stable/handbook/tutorial.html)"
   ]
  },
  {
   "cell_type": "code",
   "execution_count": 12,
   "id": "e3592cd0-973b-4963-90ca-9dff644ebf42",
   "metadata": {},
   "outputs": [],
   "source": [
    "from PIL import Image"
   ]
  },
  {
   "cell_type": "code",
   "execution_count": 13,
   "id": "874b8727-98d8-4a75-9939-7105b39795e2",
   "metadata": {},
   "outputs": [],
   "source": [
    "filename = 'flower512.png' # PNG: portable Network graphics\n",
    "\n",
    "im = Image.open(filename)\n",
    "im.show()"
   ]
  },
  {
   "cell_type": "code",
   "execution_count": 10,
   "id": "e31dd33e-5dcb-4fce-b93e-816f62ac490c",
   "metadata": {},
   "outputs": [
    {
     "data": {
      "text/plain": [
       "PIL.JpegImagePlugin.JpegImageFile"
      ]
     },
     "execution_count": 10,
     "metadata": {},
     "output_type": "execute_result"
    }
   ],
   "source": [
    "type(im)"
   ]
  },
  {
   "cell_type": "code",
   "execution_count": 11,
   "id": "ce065012-0f55-45d1-9664-bcb9c6acb65f",
   "metadata": {},
   "outputs": [],
   "source": [
    "with Image.open(filename) as im:\n",
    "    im.show()"
   ]
  },
  {
   "cell_type": "code",
   "execution_count": 5,
   "id": "dd474725-4559-43d3-9bb2-550c8e07ad3a",
   "metadata": {},
   "outputs": [],
   "source": [
    "filename2 = 'bird.jpg' # jpg: JPEG, Joint Photographic Experts Group\n",
    "with Image.open(filename2) as im2:\n",
    "    im2.show()"
   ]
  },
  {
   "cell_type": "code",
   "execution_count": 6,
   "id": "20f98791-0192-4f40-bad0-93a85d452c42",
   "metadata": {},
   "outputs": [],
   "source": [
    "im2 = im2.rotate(30)\n",
    "im2.show()"
   ]
  },
  {
   "cell_type": "code",
   "execution_count": 7,
   "id": "53394ff1",
   "metadata": {},
   "outputs": [
    {
     "name": "stdout",
     "output_type": "stream",
     "text": [
      "(512, 512)\n",
      "512 512\n",
      "RGB\n",
      "PNG\n"
     ]
    }
   ],
   "source": [
    "print(im.size)\n",
    "print(im.width, im.height)\n",
    "print(im.mode)\n",
    "print(im.format)"
   ]
  },
  {
   "cell_type": "markdown",
   "id": "48310209-74d1-4ef6-9c5f-fdbde371d3e3",
   "metadata": {},
   "source": [
    "* 영상 파일 저장하기"
   ]
  },
  {
   "cell_type": "code",
   "execution_count": 1,
   "id": "03f5270f-93f7-4254-bdae-188d9198411b",
   "metadata": {},
   "outputs": [
    {
     "ename": "NameError",
     "evalue": "name 'im' is not defined",
     "output_type": "error",
     "traceback": [
      "\u001b[1;31m---------------------------------------------------------------------------\u001b[0m",
      "\u001b[1;31mNameError\u001b[0m                                 Traceback (most recent call last)",
      "\u001b[1;32m~\\AppData\\Local\\Temp/ipykernel_5656/990243131.py\u001b[0m in \u001b[0;36m<module>\u001b[1;34m\u001b[0m\n\u001b[1;32m----> 1\u001b[1;33m \u001b[0mim\u001b[0m\u001b[1;33m.\u001b[0m\u001b[0msave\u001b[0m\u001b[1;33m(\u001b[0m\u001b[1;34m'flower512.jpg'\u001b[0m\u001b[1;33m)\u001b[0m\u001b[1;33m\u001b[0m\u001b[1;33m\u001b[0m\u001b[0m\n\u001b[0m",
      "\u001b[1;31mNameError\u001b[0m: name 'im' is not defined"
     ]
    }
   ],
   "source": [
    "im.save('flower512.jpg')\n"
   ]
  },
  {
   "cell_type": "code",
   "execution_count": null,
   "id": "95af1303-940e-436e-b455-a9949000f0f9",
   "metadata": {},
   "outputs": [],
   "source": [
    "im3 = Image.open('flower512.jpg')\n",
    "print(im3.format) "
   ]
  },
  {
   "cell_type": "code",
   "execution_count": null,
   "id": "f47855e0-808f-4ab0-9c27-e89989c515bb",
   "metadata": {},
   "outputs": [],
   "source": [
    "print(im3.size)\n",
    "print(im3.width, im2.height)\n",
    "print(im3.mode)\n",
    "print(im3.format)"
   ]
  },
  {
   "cell_type": "markdown",
   "id": "5ba1c5a7",
   "metadata": {},
   "source": [
    "### Matplotlib.pyplot의 imshow() 함수로 영상 표시하기"
   ]
  },
  {
   "cell_type": "code",
   "execution_count": null,
   "id": "db403216",
   "metadata": {},
   "outputs": [],
   "source": [
    "import matplotlib.pyplot as plt"
   ]
  },
  {
   "cell_type": "code",
   "execution_count": null,
   "id": "a1a95ce7",
   "metadata": {},
   "outputs": [],
   "source": [
    "plt.figure(figsize=(6,8))\n",
    "plt.imshow(im)\n",
    "plt.axis('off')\n",
    "plt.show()"
   ]
  },
  {
   "cell_type": "code",
   "execution_count": null,
   "id": "bf24982b-6f11-41fa-b7b3-221ed82e667a",
   "metadata": {},
   "outputs": [],
   "source": [
    "plt.figure(figsize=(8,8))\n",
    "plt.imshow(im2)\n",
    "plt.axis('off')\n",
    "plt.show()"
   ]
  },
  {
   "cell_type": "markdown",
   "id": "15dac5a7",
   "metadata": {},
   "source": [
    "## scikit-image 이용하기\n",
    "- scipy.ndimage를 기반으로 개발되고 있는 영상 처리 라이브러리\n",
    "- SciPy (https://scipy.org/)\n",
    "  * NumPy를 기반으로 수학 알고리즘과 함수들을 모아 놓은 과학 계산용 라이브러리\n",
    "  * SciPy ndimage: 다차원 영상 처리 함수들을 모아 놓은 모듈\n",
    "    - scipy.ndimage(https://docs.scipy.org/doc/scipy/reference/ndimage.html)\n",
    "    - 영상 입출력, 화면에 영상 표시\n",
    "    - 기본 조작 (basic manipulation)\n",
    "    - 영상 필터링 (image filtering)\n",
    "    - 영상 세그멘테이션 (image segmentation)\n",
    "    - 분류 (classification)\n",
    "    - 특징 추출 (feature extraction)\n",
    "    - 영상 정합 (image registration)\n",
    "\n",
    "- Home page: https://scikit-image.org/"
   ]
  },
  {
   "cell_type": "code",
   "execution_count": null,
   "id": "55a010f2-74b4-4d6a-8f2c-194b6293914d",
   "metadata": {
    "slideshow": {
     "slide_type": "slide"
    },
    "tags": []
   },
   "outputs": [],
   "source": [
    "from skimage import io"
   ]
  },
  {
   "cell_type": "code",
   "execution_count": null,
   "id": "59808f38",
   "metadata": {},
   "outputs": [],
   "source": [
    "im4 = io.imread(filename2)"
   ]
  },
  {
   "cell_type": "code",
   "execution_count": null,
   "id": "d0581793",
   "metadata": {},
   "outputs": [],
   "source": [
    "type(im4)"
   ]
  },
  {
   "cell_type": "code",
   "execution_count": null,
   "id": "8cd3dfe9",
   "metadata": {},
   "outputs": [],
   "source": [
    "im4.shape"
   ]
  },
  {
   "cell_type": "code",
   "execution_count": null,
   "id": "4eb4c292",
   "metadata": {},
   "outputs": [],
   "source": [
    "im4.dtype"
   ]
  },
  {
   "cell_type": "code",
   "execution_count": null,
   "id": "1d258bfc",
   "metadata": {},
   "outputs": [],
   "source": [
    "io.imshow(im4)"
   ]
  },
  {
   "cell_type": "code",
   "execution_count": null,
   "id": "2d280e4b-e249-4552-a969-8dd12c73343b",
   "metadata": {},
   "outputs": [],
   "source": [
    "plt.imshow(im4)"
   ]
  },
  {
   "cell_type": "code",
   "execution_count": null,
   "id": "b0293d3a-9d88-4426-88cc-16f98f1c5bb0",
   "metadata": {},
   "outputs": [],
   "source": [
    "from skimage import color, filters\n",
    "im4 = io.imread(filename)\n",
    "im4.shape"
   ]
  },
  {
   "cell_type": "code",
   "execution_count": null,
   "id": "b430f860-ebda-49bc-84de-709b9749bb32",
   "metadata": {},
   "outputs": [],
   "source": [
    "im4gray = color.rgb2gray(im4)"
   ]
  },
  {
   "cell_type": "code",
   "execution_count": null,
   "id": "3faef299-1a80-41cb-a092-2620ac8d151b",
   "metadata": {},
   "outputs": [],
   "source": [
    "im4gray.shape"
   ]
  },
  {
   "cell_type": "code",
   "execution_count": null,
   "id": "89402b3f-69d3-4e78-9f2e-14abdcdfa506",
   "metadata": {},
   "outputs": [],
   "source": [
    "io.imshow(im4gray)"
   ]
  },
  {
   "cell_type": "code",
   "execution_count": null,
   "id": "06732985-987f-4d5c-86ee-dbab7764fdb8",
   "metadata": {},
   "outputs": [],
   "source": [
    "plt.imshow(im4gray)"
   ]
  },
  {
   "cell_type": "code",
   "execution_count": null,
   "id": "51f2165f-d8da-4f35-9d70-95830ef97f05",
   "metadata": {},
   "outputs": [],
   "source": [
    "plt.imshow(im4gray, cmap='gray')"
   ]
  },
  {
   "cell_type": "markdown",
   "id": "a0f918a5-c657-4249-bd3b-9a6b5c3269b3",
   "metadata": {},
   "source": [
    "- Sobel 연산자 적용"
   ]
  },
  {
   "cell_type": "code",
   "execution_count": null,
   "id": "a799be37-abc6-43f3-864f-b9be627cf504",
   "metadata": {},
   "outputs": [],
   "source": [
    "edge = filters.sobel(im4gray)\n",
    "io.imshow(edge)"
   ]
  },
  {
   "cell_type": "markdown",
   "id": "fe599387-11cf-4444-bd32-4b2553c8002f",
   "metadata": {},
   "source": [
    "* Skikit-image io 모듈에서 영상 저장하기"
   ]
  },
  {
   "cell_type": "code",
   "execution_count": null,
   "id": "54cedaab-d1cc-4c6c-804b-71b7a94b2d4f",
   "metadata": {},
   "outputs": [],
   "source": [
    "io.imsave('flower512-2.jpg', im4)"
   ]
  },
  {
   "cell_type": "markdown",
   "id": "cf662bbc-80c6-4e27-a95b-b8a086318ace",
   "metadata": {},
   "source": [
    "- Scikit-image의 영상 데이터셋 이용하기"
   ]
  },
  {
   "cell_type": "code",
   "execution_count": null,
   "id": "6c87bcad-e92f-46ee-a009-ba2ed27096d0",
   "metadata": {},
   "outputs": [],
   "source": [
    "from skimage import data"
   ]
  },
  {
   "cell_type": "code",
   "execution_count": null,
   "id": "ac159e15-9aa1-4a89-9b9c-ad93b15bc798",
   "metadata": {},
   "outputs": [],
   "source": [
    "dir(data)"
   ]
  },
  {
   "cell_type": "code",
   "execution_count": null,
   "id": "542f0498-6f90-477e-8b53-fa3d70814531",
   "metadata": {},
   "outputs": [],
   "source": [
    "help(data.coins)"
   ]
  },
  {
   "cell_type": "code",
   "execution_count": null,
   "id": "3bd716b1-1456-4972-8ee6-18f0bf4784f9",
   "metadata": {},
   "outputs": [],
   "source": [
    "im = data.coins()\n",
    "print(im.shape)\n",
    "io.imshow(im)\n",
    "plt.axis('off')\n",
    "plt.show()"
   ]
  },
  {
   "cell_type": "code",
   "execution_count": null,
   "id": "02c948cc-3741-401a-b604-c37a755b9ded",
   "metadata": {},
   "outputs": [],
   "source": [
    "type(im)"
   ]
  },
  {
   "cell_type": "code",
   "execution_count": null,
   "id": "3df9166e-04ba-4765-849f-88c292cc8091",
   "metadata": {},
   "outputs": [],
   "source": [
    "io.imsave(\"coins.jpg\", im)"
   ]
  },
  {
   "cell_type": "markdown",
   "id": "5d0394de-e4c7-47d0-8e57-fec537c4de2d",
   "metadata": {},
   "source": [
    "### Matplotlib.image 이용하기"
   ]
  },
  {
   "cell_type": "code",
   "execution_count": null,
   "id": "4cbd0518",
   "metadata": {},
   "outputs": [],
   "source": [
    "import matplotlib.image as mpimg"
   ]
  },
  {
   "cell_type": "code",
   "execution_count": null,
   "id": "8acebe59",
   "metadata": {},
   "outputs": [],
   "source": [
    "im5 = mpimg.imread(filename)"
   ]
  },
  {
   "cell_type": "code",
   "execution_count": null,
   "id": "08edcc2d",
   "metadata": {},
   "outputs": [],
   "source": [
    "type(im5)"
   ]
  },
  {
   "cell_type": "code",
   "execution_count": null,
   "id": "cbbcd51f-f1f4-4bc6-92a0-a7728ec25c9a",
   "metadata": {},
   "outputs": [],
   "source": [
    "plt.imshow(im5)"
   ]
  },
  {
   "cell_type": "code",
   "execution_count": null,
   "id": "07ade020-2ae4-4452-81ed-fa34a111b717",
   "metadata": {},
   "outputs": [],
   "source": [
    "mpimg.imsave(\"flower512-3.jpg\", im5)"
   ]
  },
  {
   "cell_type": "markdown",
   "id": "0d2d2c76",
   "metadata": {},
   "source": [
    "### imageIO 라이브러리 이용하기\n",
    "\n",
    "- imageio homepage: https://imageio.readthedocs.io/en/stable/"
   ]
  },
  {
   "cell_type": "code",
   "execution_count": null,
   "id": "b6ca5da8",
   "metadata": {},
   "outputs": [],
   "source": [
    "import imageio as iio"
   ]
  },
  {
   "cell_type": "code",
   "execution_count": null,
   "id": "ae842dd0",
   "metadata": {},
   "outputs": [],
   "source": [
    "im6 = iio.imread(filename)"
   ]
  },
  {
   "cell_type": "code",
   "execution_count": null,
   "id": "083c1f73",
   "metadata": {},
   "outputs": [],
   "source": [
    "type(im6)"
   ]
  },
  {
   "cell_type": "code",
   "execution_count": null,
   "id": "c0e4ac54-e295-4d30-9531-111f4e88af31",
   "metadata": {
    "tags": []
   },
   "outputs": [],
   "source": [
    "help(im6)"
   ]
  },
  {
   "cell_type": "code",
   "execution_count": null,
   "id": "36d2b0c1-a4f9-44a8-a2aa-9680279516ee",
   "metadata": {},
   "outputs": [],
   "source": [
    "im6.shape"
   ]
  },
  {
   "cell_type": "code",
   "execution_count": null,
   "id": "8ba4e49d-cccb-4ad2-acdc-e8bdbfd8c83e",
   "metadata": {},
   "outputs": [],
   "source": [
    "im6.dtype"
   ]
  },
  {
   "cell_type": "code",
   "execution_count": null,
   "id": "10fd66dd",
   "metadata": {},
   "outputs": [],
   "source": [
    "plt.imshow(im6)"
   ]
  },
  {
   "cell_type": "code",
   "execution_count": null,
   "id": "ee1ee546-bf8e-4447-a9ca-464d9b7993e8",
   "metadata": {},
   "outputs": [],
   "source": [
    "iio.imsave(\"flower512-4.jpg\", im6)"
   ]
  },
  {
   "cell_type": "markdown",
   "id": "bc9ed887-a58d-4317-b84e-b17af989b851",
   "metadata": {},
   "source": [
    "### OpenCV 라이브러리 이용하기\n",
    "- OpenCV: Open Source Computer Vision (http://opencv.org)\n",
    "- API 버전\n",
    "  * cv: OpenCV C API binding, 더 이상 사용되지 않음\n",
    "  * cv2: OpenCV C++ API binding"
   ]
  },
  {
   "cell_type": "code",
   "execution_count": null,
   "id": "23842c27-a703-4aca-a9cd-bf8fc9002255",
   "metadata": {},
   "outputs": [],
   "source": [
    "import cv2"
   ]
  },
  {
   "cell_type": "code",
   "execution_count": null,
   "id": "8deb9a9f-eafb-402c-bb22-2d151ed0d22f",
   "metadata": {},
   "outputs": [],
   "source": [
    "cv2.__version__"
   ]
  },
  {
   "cell_type": "code",
   "execution_count": null,
   "id": "05075f08-9e92-4094-b5d4-d8b903cf958b",
   "metadata": {},
   "outputs": [],
   "source": [
    "im6 = cv2.imread(filename)"
   ]
  },
  {
   "cell_type": "code",
   "execution_count": null,
   "id": "d614f382-984e-4dd2-8c9c-33b75e2d71a3",
   "metadata": {},
   "outputs": [],
   "source": [
    "type(im6)"
   ]
  },
  {
   "cell_type": "code",
   "execution_count": null,
   "id": "38880eba-f764-4fef-b2ec-6b4d5372b98f",
   "metadata": {},
   "outputs": [],
   "source": [
    "im6.dtype"
   ]
  },
  {
   "cell_type": "code",
   "execution_count": null,
   "id": "6f5c6df3-eeda-4dd5-8675-27d0cf450d4d",
   "metadata": {},
   "outputs": [],
   "source": [
    "im6.shape"
   ]
  },
  {
   "cell_type": "code",
   "execution_count": null,
   "id": "c65413e9-6a25-404b-9d46-19cdc6498477",
   "metadata": {},
   "outputs": [],
   "source": [
    "cv2.imshow(\"Flower\", im6)\n",
    "cv2.waitKey(0)\n",
    "cv2.destroyWindow(\"Flower\")"
   ]
  },
  {
   "cell_type": "code",
   "execution_count": null,
   "id": "f5feb6e1-6bb0-4d73-8d98-7ba573b9be0f",
   "metadata": {},
   "outputs": [],
   "source": [
    "cv2.imwrite(\"flower512-4.jpg\", im6)"
   ]
  }
 ],
 "metadata": {
  "kernelspec": {
   "display_name": "Python 3 (ipykernel)",
   "language": "python",
   "name": "python3"
  },
  "language_info": {
   "codemirror_mode": {
    "name": "ipython",
    "version": 3
   },
   "file_extension": ".py",
   "mimetype": "text/x-python",
   "name": "python",
   "nbconvert_exporter": "python",
   "pygments_lexer": "ipython3",
   "version": "3.9.7"
  },
  "latex_envs": {
   "LaTeX_envs_menu_present": true,
   "autoclose": false,
   "autocomplete": true,
   "bibliofile": "biblio.bib",
   "cite_by": "apalike",
   "current_citInitial": 1,
   "eqLabelWithNumbers": true,
   "eqNumInitial": 1,
   "hotkeys": {
    "equation": "Ctrl-E",
    "itemize": "Ctrl-I"
   },
   "labels_anchors": false,
   "latex_user_defs": false,
   "report_style_numbering": false,
   "user_envs_cfg": false
  }
 },
 "nbformat": 4,
 "nbformat_minor": 5
}
