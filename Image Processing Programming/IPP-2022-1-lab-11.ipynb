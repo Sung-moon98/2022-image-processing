{
 "cells": [
  {
   "cell_type": "markdown",
   "id": "797d2e43-d1aa-4336-a7b7-c2247577d58a",
   "metadata": {},
   "source": [
    "<h1 align='center'> 영상처리 프로그래밍 실습 11</h1>\n",
    "\n",
    "<h6 align='right'> 2022. 5. 31. </h6>"
   ]
  },
  {
   "cell_type": "markdown",
   "id": "db5adea0",
   "metadata": {},
   "source": [
    "<div class=\"alert alert-block alert-info\">\n",
    "    \n",
    "- 파일 이름에서 00000000을 자신의 학번으로, name을 자신의 이름으로 수정하세요.\n",
    "\n",
    "- 다음 줄에 자신의 이름, 학번, 학과(전공)을 적으세요.\n",
    "\n",
    "* 이름:   &nbsp;&nbsp;          학번:    &nbsp;&nbsp;         학과(전공):\n",
    "    \n",
    "</div>\n",
    "\n",
    "- JupyterLab 문서의 최신 버전은 [JupyterLab Documentation](https://jupyterlab.readthedocs.io/en/stable/index.html#/)을  참고하라\n",
    "\n",
    "- Markdown은 [Markdown Guide](https://www.markdownguide.org/)를 참고하라.\n",
    "- [Markdown Cheat Sheet](https://www.markdownguide.org/cheat-sheet/)\n",
    "\n",
    "* 제출 마감: 6월 6일 (월) 오후 6:00까지 최종본을 SmartLEAD제출\n"
   ]
  },
  {
   "cell_type": "code",
   "execution_count": 1,
   "id": "34e117ec",
   "metadata": {},
   "outputs": [
    {
     "name": "stdout",
     "output_type": "stream",
     "text": [
      "OpenCV version 4.5.2\n",
      "NumPy version 1.20.3\n"
     ]
    }
   ],
   "source": [
    "import cv2\n",
    "import matplotlib.pyplot as plt\n",
    "\n",
    "import numpy as np\n",
    "print(\"OpenCV version\", cv2.__version__)\n",
    "print(\"NumPy version\", np.__version__)"
   ]
  },
  {
   "cell_type": "markdown",
   "id": "1f702ab1-eee0-488a-bd3f-f4c11f2fe1e8",
   "metadata": {
    "tags": []
   },
   "source": [
    "## 지난 주 문제 1. \n",
    " \n",
    "예제 2를 다음과 같이 변경하라.\n",
    "\n",
    "- k-Means algorithm으로 구한 cluster centers 대신에 임의의 색을 지정하는 방법으로 벡터 양자화한 영상의 색을 변경하라.\n",
    "- Matplotlib의 cm 모듈이 제공하는 colormap 중에서 다음과 같은 Listed color maps를 사용하라.\n",
    "\n",
    "listed_color_maps = [cm.viridis, cm.plasma, cm.inferno, \n",
    "                     cm.magma, cm.cividis, cm.twilight, cm.twilight_shifted]"
   ]
  },
  {
   "cell_type": "code",
   "execution_count": 3,
   "id": "b897809d-418f-4eaa-bce6-1487ad653656",
   "metadata": {
    "tags": []
   },
   "outputs": [],
   "source": [
    "import cv2\n",
    "import numpy as np\n",
    "from matplotlib import cm\n",
    "from sklearn.utils import shuffle\n",
    "from sklearn import cluster\n",
    "\n",
    "def onSelectColor(val):\n",
    "    global color_selection\n",
    "    color_selection = val\n",
    "    show_quantized_image()\n",
    "\n",
    "\n",
    "def onKMeans(val):\n",
    "    global K, img_labels, kmeans\n",
    "    K = val\n",
    "    kmeans = cluster.KMeans(n_clusters=K).fit(img_sample)\n",
    "    img_labels = kmeans.predict(img).reshape(scenery.shape[:2])\n",
    "    show_quantized_image()\n",
    "\n",
    "def show_quantized_image():\n",
    "    global quantized_colors, img_vq\n",
    "    if color_selection == 0:\n",
    "        img_vq = scenery\n",
    "    elif color_selection == 1:\n",
    "        quantized_colors = kmeans.cluster_centers_.round().astype(np.uint8)\n",
    "        img_vq = quantized_colors[img_labels]\n",
    "    else:\n",
    "        cmap = listed_color_maps[color_selection]\n",
    "        step = 256 // K\n",
    "        quantized_colors = (255*np.array(cmap.colors[::step])).round().astype(np.uint8)\n",
    "        quantized_colors = quantized_colors[...,::-1]\n",
    "        img_vq = quantized_colors[img_labels]\n",
    "    scenery_vq = img_vq.reshape(scenery.shape)\n",
    "    cv2.imshow(winName, img_vq)\n",
    "\n",
    "filename = 'beach_640.jpg'\n",
    "scenery = cv2.imread(filename)\n",
    "N = 3000\n",
    "img = scenery.reshape(-1, 3)\n",
    "img_sample = shuffle(img, random_state=0)[:N]\n",
    "K = 3\n",
    "\n",
    "listed_color_maps = ['original', 'K-means', cm.viridis, cm.plasma, cm.inferno, \n",
    "                     cm.magma, cm.cividis, cm.twilight, cm.twilight_shifted]\n",
    "\n",
    "quantized_colors = np.zeros((K, 3), np.uint8)\n",
    "img_labels = np.zeros(img.shape[0], np.int32)\n",
    "kmeans = cluster.KMeans(n_clusters=K).fit(img_sample)\n",
    "\n",
    "\n",
    "winName = \"Image Pseudo Coloring\"\n",
    "cv2.namedWindow(winName, flags=1|cv2.WINDOW_GUI_NORMAL )\n",
    "color_selection = 0\n",
    "cmap = listed_color_maps[color_selection]\n",
    "\n",
    "img_vq = np.empty_like(img)\n",
    "onKMeans(K)\n",
    "show_quantized_image()\n",
    "\n",
    "cv2.createTrackbar('K-Means', winName, K, 15, onKMeans)\n",
    "cv2.setTrackbarMin('K-Means', winName, 2)\n",
    "\n",
    "cv2.createTrackbar('Color Map', winName, color_selection, len(listed_color_maps)-1, onSelectColor)\n",
    "cv2.setTrackbarMin('Color Map', winName, 0)\n",
    "\n",
    "\n",
    "cv2.waitKey(0)\n",
    "cv2.destroyAllWindows()"
   ]
  },
  {
   "cell_type": "markdown",
   "id": "6cead247-a30f-4fa5-9442-6fbda016fe3f",
   "metadata": {
    "tags": []
   },
   "source": [
    "## 예제 1.\n",
    "\n",
    "MNIST handwritten digits dataset를 이용해서 숫자 인식 프로그램을 만들려고 한다.\n",
    "\n",
    "### 1.1\n",
    "\n",
    "다음 조건을 만족하는 프로그램을 작성하라.\n",
    "\n",
    "\n",
    "1. 화면에 검은색 화면을 표시하는 창을 표시하고, OpenCV의 마우스 이벤트 처리 기능을 이용해서 마우스가 움직이는 궤적을 흰색으로 표시하라. 단, 마우스 궤적에 따라 선을 그릴 수 있는 영역의 크기는 MNIST handwritten digits 영상 크기인 28 x 28의 배수로 선택하라. (예: 280 x 280)\n",
    "2. 왼쪽 마우스 버튼을 누른 상태에서 마우스를 움직일 때만 곡선이 그려진다.\n",
    "3. 키보드에서 'c'를 누르면 화면이 지워진다.\n",
    "3. 키보드에서 'q'를 누르면 프로그램이 종료된다."
   ]
  },
  {
   "cell_type": "code",
   "execution_count": 2,
   "id": "2df71a35-13b6-466d-81e0-7ca646012644",
   "metadata": {},
   "outputs": [],
   "source": [
    "import cv2\n",
    "import numpy as np\n",
    "from matplotlib import cm\n",
    "from sklearn.utils import shuffle\n",
    "from sklearn import cluster"
   ]
  },
  {
   "cell_type": "code",
   "execution_count": 9,
   "id": "277faa2c-0aa3-430a-95b0-9ff5eebfaad0",
   "metadata": {},
   "outputs": [],
   "source": [
    "def onDraw(event, x, y, flags, params):\n",
    "    global drawing, pts\n",
    "    if event == cv2.EVENT_LBUTTONDOWN:\n",
    "        drawing = True\n",
    "        pts.append((x,y))\n",
    "        \n",
    "    elif event == cv2.EVENT_MOUSEMOVE:\n",
    "        if drawing:\n",
    "            pts.append((x,y))\n",
    "            cv2.line(canvas, pts[-2], pts[-1], (255,255,255))\n",
    "        \n",
    "    elif event == cv2.EVENT_LBUTTONUP:\n",
    "        drawing = False\n",
    "        pts = []\n",
    "        \n",
    "    cv2.imshow(winName, canvas)\n",
    "\n",
    "drawing = False\n",
    "pts = []\n",
    "SCALE = 10\n",
    "WIDTH, HEIGHT = 28, 28\n",
    "\n",
    "canvas = np.zeros((HEIGHT*SCALE, WIDTH*SCALE, 3), np.uint8)\n",
    "winName = 'Digit Reconition'\n",
    "cv2.namedWindow(winName, flags=cv2.WINDOW_AUTOSIZE | cv2.WINDOW_GUI_NORMAL)\n",
    "cv2.imshow(winName, canvas)\n",
    "\n",
    "cv2.setMouseCallback(winName, onDraw)\n",
    "while True:\n",
    "    key_in = cv2.waitKey()\n",
    "    if key_in == ord('q'):\n",
    "        break\n",
    "    elif key_in == ord('c'):\n",
    "        canvas = np.zeros((HEIGHT*SCALE, WIDTH*SCALE, 3), np.uint8)\n",
    "        cv2.imshow(winName, canvas)\n",
    "cv2.destroyWindow(winName)"
   ]
  },
  {
   "cell_type": "markdown",
   "id": "cad2a852-b870-473b-b849-91ad5e1af8bd",
   "metadata": {},
   "source": [
    "### 1.2\n",
    "\n",
    "MNIST의 글자와 마우스로 쓴 글자외 비슷하도록 마우스로 쓴 선의 굵기를 조절하려고 한다.\n",
    "MNIST의 훈련 집합의 첫 세 글자자와 마우스로 쓴 글자를 화면에 표시해서 선의 굵기를 비교하라.\n",
    "\n",
    "단, 마우스로 쓴 글자 영상의 크기를 MNIST 영상과 같은 크기로 축소해서 비교해야 한다."
   ]
  },
  {
   "cell_type": "code",
   "execution_count": 11,
   "id": "a2916c68-a930-4485-9083-e5e36c032592",
   "metadata": {},
   "outputs": [
    {
     "data": {
      "text/plain": [
       "(60000, 28, 28)"
      ]
     },
     "execution_count": 11,
     "metadata": {},
     "output_type": "execute_result"
    }
   ],
   "source": [
    "import mnist\n",
    "train_images = mnist.train_images()\n",
    "train_labels = mnist.train_labels()\n",
    "train_images.shape"
   ]
  },
  {
   "cell_type": "code",
   "execution_count": 12,
   "id": "f75e0c63-3ac7-476b-a81d-7b4d5264bd9d",
   "metadata": {},
   "outputs": [
    {
     "data": {
      "image/png": "[encoded data removed]",
      "text/plain": [
       "<Figure size 864x216 with 4 Axes>"
      ]
     },
     "metadata": {
      "needs_background": "light"
     },
     "output_type": "display_data"
    }
   ],
   "source": [
    "fig, ax = plt.subplots(1, 4, figsize=(12,3))\n",
    "for n in range(3):\n",
    "    ax[n].imshow(train_images[n], cmap='gray')\n",
    "    \n",
    "digit = cv2.cvtColor(canvas, cv2.COLOR_BGR2GRAY)\n",
    "digit = cv2.resize(digit, (train_images.shape[1:]))\n",
    "ax[3].imshow(digit, cmap='gray')\n",
    "plt.show()"
   ]
  },
  {
   "cell_type": "code",
   "execution_count": 5,
   "id": "b4eff386-aaae-4a14-9940-e666daad9fba",
   "metadata": {},
   "outputs": [],
   "source": [
    "def compare_digits():\n",
    "    fig, ax = plt.subplots(1, 4, figsize=(12,3))\n",
    "    for n in range(3):\n",
    "        ax[n].imshow(train_images[n], cmap='gray')\n",
    "\n",
    "    digit = cv2.cvtColor(canvas, cv2.COLOR_BGR2GRAY)\n",
    "    digit = cv2.resize(digit, (train_images.shape[1:]))\n",
    "    ax[3].imshow(digit, cmap='gray')\n",
    "    plt.show()"
   ]
  },
  {
   "cell_type": "markdown",
   "id": "82cbd56c-8765-4f09-9f38-33e439fe7e35",
   "metadata": {},
   "source": [
    "### 1.3 \n",
    "\n",
    "예제 1.2를 참조해서 trackbar 인터페이스를 이용해서 선의 굵기를 조정할 수 있도록 에제 1.1에서 작성한 프로그램을 수정하라."
   ]
  },
  {
   "cell_type": "code",
   "execution_count": 13,
   "id": "f1cb8b02-4e67-45a0-8cf0-81835895bfce",
   "metadata": {},
   "outputs": [
    {
     "data": {
      "image/png": "[encoded data removed]",
      "text/plain": [
       "<Figure size 864x216 with 4 Axes>"
      ]
     },
     "metadata": {
      "needs_background": "light"
     },
     "output_type": "display_data"
    }
   ],
   "source": [
    "def onPenThickness(val):\n",
    "    global pen_thickness\n",
    "    pen_thickness = val\n",
    "\n",
    "def onDraw(event, x, y, flags, params):\n",
    "    global drawing, pts, pen_thickness\n",
    "    if event == cv2.EVENT_LBUTTONDOWN:\n",
    "        drawing = True\n",
    "        pts.append((x,y))\n",
    "        \n",
    "    elif event == cv2.EVENT_MOUSEMOVE:\n",
    "        if drawing:\n",
    "            pts.append((x,y))\n",
    "            cv2.line(canvas, pts[-2], pts[-1], (255,255,255), pen_thickness)\n",
    "        \n",
    "    elif event == cv2.EVENT_LBUTTONUP:\n",
    "        drawing = False\n",
    "        pts = []\n",
    "        \n",
    "    cv2.imshow(winName, canvas)\n",
    "\n",
    "drawing = False\n",
    "pts = []\n",
    "SCALE = 10\n",
    "WIDTH, HEIGHT = 28, 28\n",
    "pen_thickness = 20\n",
    "\n",
    "canvas = np.zeros((HEIGHT*SCALE, WIDTH*SCALE, 3), np.uint8)\n",
    "winName = 'Digit Reconition'\n",
    "cv2.namedWindow(winName, flags=cv2.WINDOW_AUTOSIZE | cv2.WINDOW_GUI_NORMAL)\n",
    "cv2.imshow(winName, canvas)\n",
    "\n",
    "cv2.setMouseCallback(winName, onDraw)\n",
    "cv2.createTrackbar('thickness', winName, pen_thickness, 40, onPenThickness)\n",
    "cv2.setTrackbarMin('thickness', winName, 20)\n",
    "\n",
    "while True:\n",
    "    key_in = cv2.waitKey()\n",
    "    if key_in == ord('q'):\n",
    "        break\n",
    "    elif key_in == ord('c'):\n",
    "        canvas = np.zeros((HEIGHT*SCALE, WIDTH*SCALE, 3), np.uint8)\n",
    "        cv2.imshow(winName, canvas)\n",
    "cv2.destroyWindow(winName)\n",
    "\n",
    "compare_digits()"
   ]
  },
  {
   "cell_type": "markdown",
   "id": "aa6ee787-edc8-4597-bbb2-23e3245e352f",
   "metadata": {},
   "source": [
    "### 1.4\n",
    "\n",
    "예제 1.3에서 만든 글자와 MNIST의 글자 사이에 어떤 차이가 있는지 살펴 보고 마우스로 만든 글자의 특성이 MNIST 글자와 비슷하게 조작하는 방법을 생각해 보고 프로그램을 보완하라."
   ]
  },
  {
   "cell_type": "code",
   "execution_count": 20,
   "id": "affe984e-dc41-46f3-9664-38a585995cc5",
   "metadata": {},
   "outputs": [],
   "source": [
    "train_images = mnist.train_images\n",
    "\n",
    "digit = cv2.cvtColor(canvas, cv2.COLOR_BGR2GRAY)\n",
    "digit = cv2.GaussianBlur(digit, (45,45), 5.)\n",
    "img = cv2.resize(digit, (28,28))\n",
    "\n",
    "cv2.namedWindow(\"MNIST digit\", flags=cv2.WINDOW_NORMAL)\n",
    "cv2.imshow(\"MNIST digit\", img)\n",
    "\n",
    "cv2.waitKey()\n",
    "cv2.destroyAllWindows()"
   ]
  },
  {
   "cell_type": "markdown",
   "id": "aea4d620-a60a-4d37-a7ad-770095dcc4f2",
   "metadata": {},
   "source": [
    "### 1.5\n",
    "\n",
    "예제 1.4에서 찾은 방법을 고려해서 예제 1.3에 만든 프로그램을 보완하라.\n",
    "\n",
    "단, 글자를 다 쓴 후에 오른쪽 마우스를 클릭했을 때, 예제 1.4에서 찾은 방법을 적용한 영상이 창에 표시되어야 한다."
   ]
  },
  {
   "cell_type": "code",
   "execution_count": 15,
   "id": "f6ee2a7e-086f-437d-afa5-bee9b8146724",
   "metadata": {},
   "outputs": [],
   "source": [
    "def onPenThickness(val):\n",
    "    global pen_thickness\n",
    "    pen_thickness = val\n",
    "\n",
    "def onDraw(event, x, y, flags, params):\n",
    "    global drawing, pts, canvas\n",
    "    if event == cv2.EVENT_LBUTTONDOWN:\n",
    "        drawing = True\n",
    "        pts.append((x,y))\n",
    "        \n",
    "    elif event == cv2.EVENT_MOUSEMOVE:\n",
    "        if drawing:\n",
    "            pts.append((x,y))\n",
    "            cv2.line(canvas, pts[-2], pts[-1], color, pen_thickness)\n",
    "        \n",
    "    elif event == cv2.EVENT_LBUTTONUP:\n",
    "        drawing = False\n",
    "        pts = []\n",
    "    \n",
    "    elif event == cv2.EVENT_RBUTTONUP:\n",
    "        canvas = cv2.GaussianBlur(canvas, (45,45), 5.)   # trackbar 인터페이스로\n",
    "        \n",
    "    cv2.imshow(winName, canvas)\n",
    "\n",
    "drawing = False\n",
    "pts = []\n",
    "SCALE = 10\n",
    "WIDTH, HEIGHT = 28, 28\n",
    "pen_thickness = 20\n",
    "color = (253, 253, 253)\n",
    "\n",
    "canvas = np.zeros((HEIGHT*SCALE, WIDTH*SCALE, 3), np.uint8)\n",
    "winName = 'Digit Reconition'\n",
    "cv2.namedWindow(winName, flags=cv2.WINDOW_AUTOSIZE | cv2.WINDOW_GUI_NORMAL)\n",
    "cv2.imshow(winName, canvas)\n",
    "\n",
    "cv2.setMouseCallback(winName, onDraw)\n",
    "cv2.createTrackbar('thickness', winName, pen_thickness, 40, onPenThickness)\n",
    "cv2.setTrackbarMin('thickness', winName, 20)\n",
    "\n",
    "while True:\n",
    "    key_in = cv2.waitKey()\n",
    "    if key_in == ord('q'):\n",
    "        break\n",
    "    elif key_in == ord('c'):\n",
    "        canvas = np.zeros((HEIGHT*SCALE, WIDTH*SCALE, 3), np.uint8)\n",
    "        cv2.imshow(winName, canvas)\n",
    "cv2.destroyWindow(winName)"
   ]
  },
  {
   "cell_type": "markdown",
   "id": "75363b21-9a90-411e-8455-0313e0b6965d",
   "metadata": {
    "tags": []
   },
   "source": [
    "### 1.6\n",
    "\n",
    "예제 1.5의 프로그램에 kNN 분류기를 추가해서 마우스로 쓴 글자를 인식하는 프로그램을 작성하라.\n",
    "\n",
    "단, 오른쪽 마우스 버튼을 클릭하면 print 함수를 이용해서 인식 결과를 콘솔에 출력하라."
   ]
  },
  {
   "cell_type": "code",
   "execution_count": 25,
   "id": "ae21f3af-175a-44cd-ba97-0e51797279f7",
   "metadata": {},
   "outputs": [
    {
     "data": {
      "text/plain": [
       "(60000, 28, 28)"
      ]
     },
     "execution_count": 25,
     "metadata": {},
     "output_type": "execute_result"
    }
   ],
   "source": [
    "train_images = mnist.train_images()\n",
    "train_labels = mnist.train_labels()\n",
    "train_images.shape"
   ]
  },
  {
   "cell_type": "code",
   "execution_count": 26,
   "id": "6b9492cd-4e22-47f7-94e5-9d9176635f6c",
   "metadata": {},
   "outputs": [
    {
     "data": {
      "text/plain": [
       "KNeighborsClassifier()"
      ]
     },
     "execution_count": 26,
     "metadata": {},
     "output_type": "execute_result"
    }
   ],
   "source": [
    "from sklearn.neighbors import KNeighborsClassifier\n",
    "K = 5\n",
    "knn = KNeighborsClassifier(n_neighbors=K)\n",
    "knn.fit(train_images.reshape(train_images.shape[0], -1), train_labels)"
   ]
  },
  {
   "cell_type": "code",
   "execution_count": 28,
   "id": "85a3d1d6-e07c-428a-8ac0-3a0e07804f30",
   "metadata": {},
   "outputs": [
    {
     "name": "stdout",
     "output_type": "stream",
     "text": [
      "[3]\n"
     ]
    },
    {
     "data": {
      "image/png": "[encoded data removed]",
      "text/plain": [
       "<Figure size 864x216 with 4 Axes>"
      ]
     },
     "metadata": {
      "needs_background": "light"
     },
     "output_type": "display_data"
    }
   ],
   "source": [
    "def onPenThickness(val):\n",
    "    global pen_thickness\n",
    "    pen_thickness = val\n",
    "\n",
    "def onDraw(event, x, y, flags, params):\n",
    "    global drawing, pts, canvas\n",
    "    if event == cv2.EVENT_LBUTTONDOWN:\n",
    "        drawing = True\n",
    "        pts.append((x,y))\n",
    "        \n",
    "    elif event == cv2.EVENT_MOUSEMOVE:\n",
    "        if drawing:\n",
    "            pts.append((x,y))\n",
    "            cv2.line(canvas, pts[-2], pts[-1], color, pen_thickness)\n",
    "        \n",
    "    elif event == cv2.EVENT_LBUTTONUP:\n",
    "        drawing = False\n",
    "        pts = []\n",
    "    \n",
    "    elif event == cv2.EVENT_RBUTTONUP:\n",
    "        canvas = cv2.GaussianBlur(canvas, (45,45), 5.)   # trackbar 인터페이스로\n",
    "        digit = cv2.cvtColor(canvas, cv2.COLOR_BGR2GRAY)\n",
    "        digit = cv2.resize(digit, (28,28))\n",
    "        predict = knn.predict(digit.reshape(1, -1))\n",
    "        print(predict)\n",
    "        \n",
    "    cv2.imshow(winName, canvas)\n",
    "\n",
    "drawing = False\n",
    "pts = []\n",
    "SCALE = 10\n",
    "WIDTH, HEIGHT = 28, 28\n",
    "pen_thickness = 20\n",
    "color = (253, 253, 253)\n",
    "\n",
    "canvas = np.zeros((HEIGHT*SCALE, WIDTH*SCALE, 3), np.uint8)\n",
    "winName = 'Digit Reconition'\n",
    "cv2.namedWindow(winName, flags=cv2.WINDOW_AUTOSIZE | cv2.WINDOW_GUI_NORMAL)\n",
    "cv2.imshow(winName, canvas)\n",
    "\n",
    "cv2.setMouseCallback(winName, onDraw)\n",
    "cv2.createTrackbar('thickness', winName, pen_thickness, 40, onPenThickness)\n",
    "cv2.setTrackbarMin('thickness', winName, 20)\n",
    "\n",
    "while True:\n",
    "    key_in = cv2.waitKey()\n",
    "    if key_in == ord('q'):\n",
    "        break\n",
    "    elif key_in == ord('c'):\n",
    "        canvas = np.zeros((HEIGHT*SCALE, WIDTH*SCALE, 3), np.uint8)\n",
    "        cv2.imshow(winName, canvas)\n",
    "cv2.destroyWindow(winName)\n",
    "\n",
    "compare_digits()"
   ]
  },
  {
   "cell_type": "markdown",
   "id": "28ee0287-3902-4198-b79c-3cec9ad96e70",
   "metadata": {
    "tags": []
   },
   "source": [
    "### 1.7\n",
    "\n",
    "cv2.putText 함수의 사용법을 조사해서, 예제 1.6의 프로그램을 수정하여 마우스로 쓴 글자의 인식 결과를 입력 영상 옆에 별도의 영상으로 출력하라."
   ]
  },
  {
   "cell_type": "code",
   "execution_count": 29,
   "id": "75f1033d-bba8-4b4c-957a-f11ee0c0e183",
   "metadata": {},
   "outputs": [],
   "source": [
    "winName = 'test'\n",
    "img = np.zeros((400, 400, 3), np.uint8)\n",
    "cv2.putText(img, 'test', (20,300),  cv2.FONT_HERSHEY_SIMPLEX, 3, (255, 255, 255))\n",
    "cv2.imshow(winName, img)\n",
    "cv2.waitKey()\n",
    "cv2.destroyAllWindows()"
   ]
  },
  {
   "cell_type": "code",
   "execution_count": 66,
   "id": "29e050ea-475f-4703-a935-0503bbb9fe92",
   "metadata": {},
   "outputs": [
    {
     "data": {
      "image/png": "[encoded data removed]",
      "text/plain": [
       "<Figure size 864x216 with 4 Axes>"
      ]
     },
     "metadata": {
      "needs_background": "light"
     },
     "output_type": "display_data"
    }
   ],
   "source": [
    "def onPenThickness(val):\n",
    "    global pen_thickness\n",
    "    pen_thickness = val\n",
    "\n",
    "def onDraw(event, x, y, flags, params):\n",
    "    global drawing, pts, canvas, canvas_extended, text_pane\n",
    "    if event == cv2.EVENT_LBUTTONDOWN:\n",
    "        drawing = True\n",
    "        pts.append((x,y))\n",
    "        \n",
    "    elif event == cv2.EVENT_MOUSEMOVE:\n",
    "        if drawing:\n",
    "            pts.append((x,y))\n",
    "            cv2.line(canvas, pts[-2], pts[-1], color, pen_thickness)\n",
    "        \n",
    "    elif event == cv2.EVENT_LBUTTONUP:\n",
    "        drawing = False\n",
    "        pts = []\n",
    "    \n",
    "    elif event == cv2.EVENT_RBUTTONUP:\n",
    "        canvas = cv2.GaussianBlur(canvas, (45,45), 5.)   # trackbar 인터페이스로\n",
    "        digit = cv2.cvtColor(canvas, cv2.COLOR_BGR2GRAY)\n",
    "        digit = cv2.resize(digit, (28,28))\n",
    "        predict = knn.predict(digit.reshape(1, -1))\n",
    "        text_pane = np.full((HEIGHT*SCALE, WIDTH*SCALE, 3), (128,128,128), np.uint8)\n",
    "        cv2.putText(text_pane, str(predict[0]), (100,200),  cv2.FONT_HERSHEY_SIMPLEX, 5, color, 3)\n",
    "    \n",
    "    canvas_extended = np.hstack((canvas, text_pane))\n",
    "    cv2.imshow(winName, canvas_extended)\n",
    "\n",
    "drawing = False\n",
    "pts = []\n",
    "SCALE = 10\n",
    "WIDTH, HEIGHT = 28, 28\n",
    "pen_thickness = 20\n",
    "color = (253, 253, 253)\n",
    "\n",
    "canvas = np.zeros((HEIGHT*SCALE, WIDTH*SCALE, 3), np.uint8)\n",
    "text_pane = np.full((HEIGHT*SCALE, WIDTH*SCALE, 3), (128,128,128), np.uint8)\n",
    "cv2.putText(text_pane, '?', (50,250),  cv2.FONT_HERSHEY_SIMPLEX, 10, color, 3)\n",
    "canvas_extended = np.hstack((canvas, text_pane))\n",
    "\n",
    "winName = 'Digit Reconition'\n",
    "cv2.namedWindow(winName, flags=cv2.WINDOW_AUTOSIZE | cv2.WINDOW_GUI_NORMAL)\n",
    "cv2.imshow(winName, canvas_extended)\n",
    "\n",
    "cv2.setMouseCallback(winName, onDraw)\n",
    "cv2.createTrackbar('thickness', winName, pen_thickness, 40, onPenThickness)\n",
    "cv2.setTrackbarMin('thickness', winName, 20)\n",
    "\n",
    "while True:\n",
    "    key_in = cv2.waitKey()\n",
    "    if key_in == ord('q'):\n",
    "        break\n",
    "    elif key_in == ord('c'):\n",
    "        canvas = np.zeros((HEIGHT*SCALE, WIDTH*SCALE, 3), np.uint8)\n",
    "        text_pane = np.full((HEIGHT*SCALE, WIDTH*SCALE, 3), (128,128,128), np.uint8)\n",
    "        cv2.putText(text_pane, '?', (50,250),  cv2.FONT_HERSHEY_SIMPLEX, 10, color, 3)\n",
    "        canvas_extended = np.hstack((canvas, text_pane))\n",
    "        cv2.imshow(winName, canvas_extended)\n",
    "cv2.destroyWindow(winName)\n",
    "\n",
    "compare_digits()"
   ]
  },
  {
   "cell_type": "markdown",
   "id": "c9c6d1f8-7846-43ba-bf03-8b097801278c",
   "metadata": {
    "tags": []
   },
   "source": [
    "## 문제 1\n",
    "\n",
    "예제 1에서 만든 프로그램에 마우스로 글자를 쓰다 보면 인식이 잘 되지 않는 경우가 발생한다. 이를 해소하기 위해서 인식 결과를 확인할 수 있도록 가장 가까운 글자 K 개를 화면에 보여주는 프로그램을 작성하라.\n",
    "\n",
    "knn.kneighbors 메소드를 활용하면 k 개의 최근접 결과를 확인할 수 있다."
   ]
  },
  {
   "cell_type": "code",
   "execution_count": 7,
   "id": "8e8b067a-19b0-4106-ae28-9e628d11ea27",
   "metadata": {},
   "outputs": [
    {
     "data": {
      "text/plain": [
       "KNeighborsClassifier()"
      ]
     },
     "execution_count": 7,
     "metadata": {},
     "output_type": "execute_result"
    }
   ],
   "source": [
    "from sklearn.neighbors import KNeighborsClassifier\n",
    "K = 5\n",
    "knn = KNeighborsClassifier(n_neighbors=K)\n",
    "knn.fit(train_images.reshape(train_images.shape[0], -1), train_labels)"
   ]
  },
  {
   "cell_type": "code",
   "execution_count": 13,
   "id": "cae5b143-4f8a-4243-bd83-e5aed59f6c97",
   "metadata": {},
   "outputs": [
    {
     "data": {
      "image/png": "[encoded data removed]",
      "text/plain": [
       "<Figure size 864x216 with 4 Axes>"
      ]
     },
     "metadata": {
      "needs_background": "light"
     },
     "output_type": "display_data"
    }
   ],
   "source": [
    "def onPenThickness(val):\n",
    "    global pen_thickness\n",
    "    pen_thickness = val\n",
    "\n",
    "def onDraw(event, x, y, flags, params):\n",
    "    global drawing, pts, canvas, canvas_extended, text_pane\n",
    "    if event == cv2.EVENT_LBUTTONDOWN:\n",
    "        drawing = True\n",
    "        pts.append((x,y))\n",
    "        \n",
    "    elif event == cv2.EVENT_MOUSEMOVE:\n",
    "        if drawing:\n",
    "            pts.append((x,y))\n",
    "            cv2.line(canvas, pts[-2], pts[-1], color, pen_thickness)\n",
    "        \n",
    "    elif event == cv2.EVENT_LBUTTONUP:\n",
    "        drawing = False\n",
    "        pts = []\n",
    "    \n",
    "    elif event == cv2.EVENT_RBUTTONUP:\n",
    "        canvas = cv2.GaussianBlur(canvas, (45,45), 5.)   # trackbar 인터페이스로\n",
    "        digit = cv2.cvtColor(canvas, cv2.COLOR_BGR2GRAY)\n",
    "        digit = cv2.resize(digit, (28,28))\n",
    "        predict = knn.predict(digit.reshape(1, -1))\n",
    "        text_pane = np.full((HEIGHT*SCALE, WIDTH*SCALE, 3), (128,128,128), np.uint8)\n",
    "        cv2.putText(text_pane, str(predict[0]), (100,200),  cv2.FONT_HERSHEY_SIMPLEX, 5, color, 3)\n",
    "    \n",
    "    canvas_extended = np.hstack((canvas, text_pane))\n",
    "    cv2.imshow(winName, canvas_extended)\n",
    "\n",
    "drawing = False\n",
    "pts = []\n",
    "SCALE = 10\n",
    "WIDTH, HEIGHT = 28, 28\n",
    "pen_thickness = 20\n",
    "color = (253, 253, 253)\n",
    "\n",
    "canvas = np.zeros((HEIGHT*SCALE, WIDTH*SCALE, 3), np.uint8)\n",
    "text_pane = np.full((HEIGHT*SCALE, WIDTH*SCALE, 3), (128,128,128), np.uint8)\n",
    "cv2.putText(text_pane, '?', (50,250),  cv2.FONT_HERSHEY_SIMPLEX, 10, color, 3)\n",
    "canvas_extended = np.hstack((canvas, text_pane))\n",
    "\n",
    "winName = 'Digit Reconition'\n",
    "cv2.namedWindow(winName, flags=cv2.WINDOW_AUTOSIZE | cv2.WINDOW_GUI_NORMAL)\n",
    "cv2.imshow(winName, canvas_extended)\n",
    "\n",
    "cv2.setMouseCallback(winName, onDraw)\n",
    "cv2.createTrackbar('thickness', winName, pen_thickness, 40, onPenThickness)\n",
    "cv2.setTrackbarMin('thickness', winName, 20)\n",
    "\n",
    "while True:\n",
    "    key_in = cv2.waitKey()\n",
    "    if key_in == ord('q'):\n",
    "        break\n",
    "    elif key_in == ord('c'):\n",
    "        canvas = np.zeros((HEIGHT*SCALE, WIDTH*SCALE, 3), np.uint8)\n",
    "        text_pane = np.full((HEIGHT*SCALE, WIDTH*SCALE, 3), (128,128,128), np.uint8)\n",
    "        cv2.putText(text_pane, '?', (50,250),  cv2.FONT_HERSHEY_SIMPLEX, 10, color, 3)\n",
    "        canvas_extended = np.hstack((canvas, text_pane))\n",
    "        cv2.imshow(winName, canvas_extended)\n",
    "cv2.destroyWindow(winName)\n",
    "\n",
    "compare_digits()"
   ]
  },
  {
   "cell_type": "code",
   "execution_count": 2,
   "id": "5354fa09-9595-4faa-8093-1c3c2d5c2cab",
   "metadata": {},
   "outputs": [
    {
     "data": {
      "text/plain": [
       "2215834595"
      ]
     },
     "execution_count": 2,
     "metadata": {},
     "output_type": "execute_result"
    }
   ],
   "source": [
    "import hashlib\n",
    "import hashlib\n",
    "def myStringHash(s):\n",
    "    v = hashlib.sha256(s.encode(\"utf-8\"))\n",
    "    return int.from_bytes(v.digest()[:4], 'little')\n",
    "\n",
    "s = \"우건희\"+\"20175148\"\n",
    "myStringHash(s)"
   ]
  }
 ],
 "metadata": {
  "kernelspec": {
   "display_name": "Python 3 (ipykernel)",
   "language": "python",
   "name": "python3"
  },
  "language_info": {
   "codemirror_mode": {
    "name": "ipython",
    "version": 3
   },
   "file_extension": ".py",
   "mimetype": "text/x-python",
   "name": "python",
   "nbconvert_exporter": "python",
   "pygments_lexer": "ipython3",
   "version": "3.9.7"
  },
  "latex_envs": {
   "LaTeX_envs_menu_present": true,
   "autoclose": false,
   "autocomplete": true,
   "bibliofile": "biblio.bib",
   "cite_by": "apalike",
   "current_citInitial": 1,
   "eqLabelWithNumbers": true,
   "eqNumInitial": 1,
   "hotkeys": {
    "equation": "Ctrl-E",
    "itemize": "Ctrl-I"
   },
   "labels_anchors": false,
   "latex_user_defs": false,
   "report_style_numbering": false,
   "user_envs_cfg": false
  }
 },
 "nbformat": 4,
 "nbformat_minor": 5
}
